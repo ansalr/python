{
 "cells": [
  {
   "cell_type": "markdown",
   "metadata": {},
   "source": [
    "Print"
   ]
  },
  {
   "cell_type": "code",
   "execution_count": null,
   "metadata": {},
   "outputs": [],
   "source": [
    "# print number\n",
    "print(8)\n",
    "\n",
    "# print string\n",
    "print(\"i am human\")\n",
    "\n",
    "# print variable using format string\n",
    "name = \"Ansal\"\n",
    "species = \"human\"\n",
    "print(f\"i am human {name}\")\n",
    "\n",
    "# named placeholder\n",
    "print(\"my name is {} \\n i am {}\".format(name,species))\n",
    "\n",
    "# numbered placeholder\n",
    "print(\"my name is {1} \\ni am {1}\".format(species,name))\n",
    "\n",
    "# empty placeholder \n",
    "print(\"my name is {1} \\ni am {1}\".format(species,name))"
   ]
  },
  {
   "cell_type": "code",
   "execution_count": null,
   "metadata": {},
   "outputs": [],
   "source": [
    "# Arithmetic Operations\n",
    "a = 4\n",
    "b = 2\n",
    "\n",
    "# Addition\n",
    "print(f\"sum : {a+b}\")\n",
    "\n",
    "# subraction\n",
    "print(a-b)\n",
    "\n",
    "# Division\n",
    "print(a/b)\n",
    "\n",
    "# multiplication\n",
    "print(a*b)\n",
    "\n",
    "# Exponential\n",
    "print(a**b)\n",
    "\n",
    "# reminder\n",
    "print(a%b)\n",
    "\n",
    "# quotient\n",
    "print(a//b)\n",
    "\n",
    "# Concatenation\n",
    "x = \"Good\"\n",
    "y = \"Work\"\n",
    "print(x + y)\n",
    "print(x + \" \" + y)\n"
   ]
  },
  {
   "cell_type": "code",
   "execution_count": null,
   "metadata": {},
   "outputs": [],
   "source": [
    "# Numeric variables - hold integers and decimal values\n",
    "age = 25\n",
    "temperature = 98.6\n",
    "\n",
    "# String variables - Stores a sequence of characters enclosed in single or double quotes\n",
    "name = \"John Doe\"\n",
    "message = 'Hello, world!'\n",
    "\n",
    "# Boolean variables - only hold the values true and false\n",
    "is_true = True\n",
    "is_false = False\n",
    "\n",
    "# List variables - Stores a collection of items, which can be of different types.\n",
    "numbers = [1, 2, 3, 4, 5]\n",
    "fruits = ['apple', 'banana', 'orange']\n",
    "\n",
    "\n",
    "string = [C ,o ,d ,e ,C ,h ,e ,f]\n",
    "\"\"\"\n",
    " 0 1 2 3 4 5 6 7  - index number\n",
    "\"C o d e C h e f\"\n",
    "\n",
    "\"\"\"\n",
    "\n",
    "\n",
    "# Tuple variables\n",
    "coordinates = (10, 20)\n",
    "\n",
    "# Dictionary variables\n",
    "person = {'name': 'Alice', 'age': 30}\n",
    "\n",
    "# Set variables\n",
    "unique_numbers = {1, 2, 3}\n",
    "\n",
    "# None variable\n",
    "empty_value = None"
   ]
  },
  {
   "cell_type": "code",
   "execution_count": null,
   "metadata": {},
   "outputs": [],
   "source": [
    "# command to accept user input from the console\n",
    "name = input()       \n",
    "print(\"Your name is:\", name)\n",
    "\n",
    "name = input(\"Enter your name: \")\n",
    "print(\"Hello, \" + name + \"!\")\n",
    "\n",
    "age = input(\"Enter your age: \")\n",
    "print(\"You are \" + age + \" years old.\")\n",
    "\n",
    "age = int(input())\n",
    "print(\"You are\", age, \"years old.\")"
   ]
  },
  {
   "cell_type": "markdown",
   "metadata": {},
   "source": [
    "While"
   ]
  },
  {
   "cell_type": "code",
   "execution_count": null,
   "metadata": {},
   "outputs": [],
   "source": [
    "counter = 0\n",
    "while counter < 5:\n",
    "    print(\"The counter is:\", counter)\n",
    "    counter += 1"
   ]
  },
  {
   "cell_type": "markdown",
   "metadata": {},
   "source": [
    "For Loop"
   ]
  },
  {
   "cell_type": "code",
   "execution_count": null,
   "metadata": {},
   "outputs": [],
   "source": [
    "fruits = [\"apple\", \"banana\", \"orange\"]\n",
    "for item in fruits:\n",
    "    print(item)\n",
    "\n",
    "name = \"Alice\"\n",
    "for char in name:\n",
    "    print(char)"
   ]
  },
  {
   "cell_type": "markdown",
   "metadata": {},
   "source": [
    "Break"
   ]
  },
  {
   "cell_type": "code",
   "execution_count": null,
   "metadata": {},
   "outputs": [],
   "source": [
    "fruits = [\"apple\", \"banana\", \"orange\", \"grape\"]\n",
    "\n",
    "for item in fruits:\n",
    "    if item == \"orange\":\n",
    "        break\n",
    "    print(item)"
   ]
  },
  {
   "cell_type": "markdown",
   "metadata": {},
   "source": [
    "Continue"
   ]
  },
  {
   "cell_type": "code",
   "execution_count": null,
   "metadata": {},
   "outputs": [],
   "source": [
    "numbers = [1, 2, 3, 4, 5, 6, 7, 8, 9, 10]\n",
    "\n",
    "for number in numbers:\n",
    "    if number % 2 == 0:\n",
    "        continue\n",
    "    print(number)"
   ]
  },
  {
   "cell_type": "markdown",
   "metadata": {},
   "source": [
    "if condition"
   ]
  },
  {
   "cell_type": "code",
   "execution_count": null,
   "metadata": {},
   "outputs": [],
   "source": [
    "age = 25\n",
    "\n",
    "if age > 18:\n",
    "    print(\"Old enough to vote!\")\n",
    "else:\n",
    "    print(\"Not old enough to vote.\")"
   ]
  },
  {
   "cell_type": "markdown",
   "metadata": {},
   "source": [
    "if Else"
   ]
  },
  {
   "cell_type": "code",
   "execution_count": null,
   "metadata": {},
   "outputs": [],
   "source": [
    "grade = 85\n",
    "if grade >= 90:\n",
    "    print(\"You got an A!\")\n",
    "elif grade >= 80:\n",
    "    print(\"You got a B!\")\n",
    "\n",
    "\n",
    "# https://www.codechef.com/learn/course/panimalar-python-dsa/CPPAPY05/problems/PYTH67"
   ]
  },
  {
   "cell_type": "markdown",
   "metadata": {},
   "source": [
    "Boolean Operation"
   ]
  },
  {
   "cell_type": "code",
   "execution_count": null,
   "metadata": {},
   "outputs": [],
   "source": [
    "# AND \n",
    "x = 8\n",
    "y = 7\n",
    "\n",
    "if x > 5 and y < 10:\n",
    "    print(\"Both conditions are true!\")\n",
    "else:\n",
    "    print(\"At least one condition is false.\")\n",
    "\n",
    "\n",
    "# OR\n",
    "    \n",
    "age = 22\n",
    "\n",
    "if age < 18 or age > 65:\n",
    "    print(\"This person is either under 18 or over 65.\")\n",
    "else:\n",
    "    print(\"This person is between 18 and 65.\")\n",
    "\n",
    "# https://www.codechef.com/learn/course/panimalar-python-dsa/CPPAPY05/problems/PYTH77\n",
    "# https://www.codechef.com/learn/course/panimalar-python-dsa/CPPAPY05/problems/PYTH81"
   ]
  },
  {
   "cell_type": "markdown",
   "metadata": {},
   "source": [
    "Debugging"
   ]
  },
  {
   "cell_type": "code",
   "execution_count": null,
   "metadata": {},
   "outputs": [],
   "source": [
    "\"\"\"\n",
    "What is a bug?\n",
    "A bug is an error that causes the program to generate an unexpected output that is different from the expected output or no output. What are some of the error codes you saw so far?\n",
    "\n",
    "CE - Compilation error / Syntax error\n",
    "RE - Run time error\n",
    "WA - Wrong answer / Logical error\n",
    "TLE - Time limit exceeded\n",
    "\n",
    "# https://www.codechef.com/learn/course/panimalar-python-dsa/CPPAPY06/problems/DEBUGPYL2\n",
    "\n",
    "\"\"\""
   ]
  },
  {
   "cell_type": "markdown",
   "metadata": {},
   "source": [
    "Inbuild Function"
   ]
  },
  {
   "cell_type": "code",
   "execution_count": null,
   "metadata": {},
   "outputs": [],
   "source": [
    "# replace\n",
    "myString = \"Chaf\"\n",
    "myString_new = myString.replace('a', 'e')  \n",
    "print(myString_new)\n",
    "\n"
   ]
  },
  {
   "cell_type": "markdown",
   "metadata": {},
   "source": [
    "List"
   ]
  },
  {
   "cell_type": "code",
   "execution_count": null,
   "metadata": {},
   "outputs": [],
   "source": [
    "fruits = [\"apple\", \"banana\", \"orange\", \"grape\"]\n",
    "\n",
    "numbers = [20, 10, 0, -5]\n",
    "\"\"\"\n",
    "            0      1      2      - index numbers\n",
    "         [\"red\",\"Green\",\"Blue\"]  - the list\n",
    "\n",
    "            -3      -2     -1      - index numbers\n",
    "         [\"red\",\"Green\",\"Blue\"]  - the list\n",
    "\"\"\"\n",
    "\n",
    "fruits = [\"apple\", \"banana\", \"orange\", \"grape\"]\n",
    "fruits[1] = \"kiwi\"\n",
    "print(fruits)"
   ]
  },
  {
   "cell_type": "markdown",
   "metadata": {},
   "source": [
    "Function"
   ]
  },
  {
   "cell_type": "code",
   "execution_count": null,
   "metadata": {},
   "outputs": [],
   "source": [
    "def function_name(parameters):\n",
    "    # Function body (code block)\n",
    "    # ...\n",
    "    return result  # Optional return statement"
   ]
  },
  {
   "cell_type": "markdown",
   "metadata": {},
   "source": [
    "Variable scope\n"
   ]
  },
  {
   "cell_type": "code",
   "execution_count": null,
   "metadata": {},
   "outputs": [],
   "source": [
    "global_var = 10\n",
    "\n",
    "def my_function():\n",
    "    print(global_var)  # Accessing the global variable\n",
    "\n",
    "print(global_var)  # Accessible here\n",
    "my_function()  # Accessible here\n",
    "\n",
    "# https://www.codechef.com/learn/course/panimalar-python-dsa/CPPAPY09/problems/PSPP82A"
   ]
  }
 ],
 "metadata": {
  "kernelspec": {
   "display_name": "Python 3",
   "language": "python",
   "name": "python3"
  },
  "language_info": {
   "name": "python",
   "version": "3.11.6"
  }
 },
 "nbformat": 4,
 "nbformat_minor": 2
}
